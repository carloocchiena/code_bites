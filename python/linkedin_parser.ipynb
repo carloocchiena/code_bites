{
  "nbformat": 4,
  "nbformat_minor": 0,
  "metadata": {
    "colab": {
      "name": "Linkedin Parser.ipynb",
      "provenance": []
    },
    "kernelspec": {
      "name": "python3",
      "display_name": "Python 3"
    },
    "language_info": {
      "name": "python"
    }
  },
  "cells": [
    {
      "cell_type": "markdown",
      "source": [
        "# Linkedin Parser\n",
        "\n",
        "### Made by Carlo Occhiena https://github.com/carloocchiena\n",
        "\n"
      ],
      "metadata": {
        "id": "pNjNuKrOR_6D"
      }
    },
    {
      "cell_type": "markdown",
      "source": [
        "This parser is a side project I made for fun in about 1 hours on March 2022. \n",
        "\n",
        "The scope is to translate the post from the Italian legend of serveless application Michele Sciabarrà. \n",
        "\n",
        "His Linkedin posts are often very technical, so I tried to cook them up a lil' bit.\n",
        "\n",
        "The parser clean all the text, lemmatize the words, and search for each one of it on an Italian Dictionary.\n",
        "\n",
        "For all the words that are not on the dictionary, it search on Google.\n",
        "\n",
        "The tool does not clean any typo, link, or else. It's just a quick pj I made for fun.\n",
        "\n",
        "Please note that I am friend of Michele and this tool aim to be a tribute to him.\n"
      ],
      "metadata": {
        "id": "bJpuFjI6SBfy"
      }
    },
    {
      "cell_type": "code",
      "source": [
        "!pip install italian_dictionary\n",
        "!pip install -U spacy\n",
        "!python -m spacy download it_core_news_sm\n",
        "\n",
        "# restart runtime before proceeding (Runtime--> Restart Runtime)"
      ],
      "metadata": {
        "id": "ScwyjOdGT1sC"
      },
      "execution_count": null,
      "outputs": []
    },
    {
      "cell_type": "code",
      "execution_count": null,
      "metadata": {
        "id": "5ivubZ19ToNf"
      },
      "outputs": [],
      "source": [
        "from bs4 import BeautifulSoup as BS4 \n",
        "import lxml\n",
        "import requests\n",
        "\n",
        "import spacy\n",
        "import italian_dictionary\n",
        "from googlesearch import search\n",
        "\n",
        "# import the smallest Spacy dataset for Italian language \n",
        "# see https://spacy.io/models/it \n",
        "\n",
        "nlp = spacy.load('it_core_news_sm')\n",
        "\n",
        "# setting the main variables \n",
        "clean_text = []\n",
        "word_list = []\n",
        "unknown = []\n",
        "post_lemma = []\n",
        "count = 0\n",
        "\n",
        "# insert the url of the post. \n",
        "# you have to retrieve it manually from linkedin atm\n",
        "# even if this could be easily automated\n",
        "url = \"https://www.linkedin.com/feed/update/urn:li:activity:6909443962395049984/\"\n",
        "\n",
        "# preparing the soup\n",
        "post = requests.get(url, \"html parser\").content\n",
        "soup = BS4(post, \"lxml\")\n",
        "text = soup.select('.share-update-card__update-text')\n",
        "\n",
        "# let's do some cleaning\n",
        "for content in text:\n",
        "    clean_text.append(content.text)\n",
        "\n",
        "for sentence in clean_text:\n",
        "  word_list.append(sentence.split())\n",
        "\n",
        "# convert list to string to parse to spacy lemmatizer\n",
        "word_string = \"\".join([str(item) for item in word_list])\n",
        "\n",
        "# clean escape characthers\n",
        "clean_word_string = word_string.replace(\"\\'\",\"\").replace(\"[\",\"\").replace(\",\",\"\")\n",
        "\n",
        "# lemmatize the words with SpaCy\n",
        "doc = nlp(clean_word_string)\n",
        "post_lemma = (\" \".join(token.lemma_ for token in doc)).split(\" \")"
      ]
    },
    {
      "cell_type": "code",
      "source": [
        "# look up each word on the Italian Dict. \n",
        "# this may take a while\n",
        "for word in post_lemma:\n",
        "  try:\n",
        "    italian_dictionary.get_definition(word.lower(), all_data=False,  limit=1)\n",
        "  except Exception:\n",
        "    unknown.append(word.lower())"
      ],
      "metadata": {
        "id": "tdr1ABO_wI_s"
      },
      "execution_count": 63,
      "outputs": []
    },
    {
      "cell_type": "code",
      "source": [
        "# look up for unknown words on google\n",
        "# and retrieve the first link for the first 15 words\n",
        "count = 0\n",
        "for word in unknown:\n",
        "  if count < 15:\n",
        "    count += 1\n",
        "    search_result_list = list(search(word, tld=\"co.in\", num=1, stop=1, pause=1))\n",
        "    print(f'The best link to find info about {word} is: {search_result_list}')\n",
        "  else:\n",
        "    print(\"Max number of search for the day!\")\n",
        "    break"
      ],
      "metadata": {
        "colab": {
          "base_uri": "https://localhost:8080/"
        },
        "id": "PeNXZQISRtmf",
        "outputId": "5e9e996a-fe93-4f16-a337-1a5f25161504"
      },
      "execution_count": 98,
      "outputs": [
        {
          "output_type": "stream",
          "name": "stdout",
          "text": [
            "The best link to find info about issues is: ['https://www.youtube.com/watch?v=7dqMyh4ILIg']\n",
            "The best link to find info about pyrhon is: ['https://www.python.org/']\n",
            "The best link to find info about piccolino is: ['https://www.piccolinobaby.com/']\n",
            "The best link to find info about bit.ly/nuvambra1 is: []\n",
            "The best link to find info about autoassegnata is: ['https://www.techdico.com/translation/italian-english/attivit%C3%A0+autoassegnata.html']\n",
            "The best link to find info about youtube is: ['https://www.youtube.com/']\n",
            "The best link to find info about ontributor is: ['https://www.lawinsider.com/dictionary/c-ontributor']\n",
            "The best link to find info about reverse is: ['https://www.merriam-webster.com/dictionary/reverse']\n",
            "The best link to find info about contributori is: ['https://en.wiktionary.org/wiki/contributori']\n",
            "The best link to find info about tirar is: ['https://www.spanishdict.com/translate/tirar']\n",
            "The best link to find info about quotidiane is: ['https://en.wiktionary.org/wiki/quotidiane']\n",
            "The best link to find info about linux is: ['https://www.linux.org/']\n",
            "The best link to find info about 1000 is: ['https://www.youtube.com/watch?v=ARhblzz5Hrs']\n",
            "The best link to find info about l80 is: ['https://iqunix.store/products/iqunix-l80-formula-typing-wireless-mechanical-keyboard']\n",
            "The best link to find info about approcciabile is: ['https://italian.stackexchange.com/questions/5417/la-parola-approcciabile-esiste-o-no']\n",
            "Max number of search for the day!\n"
          ]
        }
      ]
    },
    {
      "cell_type": "code",
      "source": [
        ""
      ],
      "metadata": {
        "id": "e8wykJRUXjXu"
      },
      "execution_count": null,
      "outputs": []
    }
  ]
}