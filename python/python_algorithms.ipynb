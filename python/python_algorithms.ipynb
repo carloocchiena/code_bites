{
 "cells": [
  {
   "cell_type": "markdown",
   "metadata": {},
   "source": [
    "# Algorthms in Python\n",
    "\n",
    "An overview of the most used algos in CS, analyzed in Python language.\n",
    "\n",
    "Source: https://www.youtube.com/watch?v=fW_OS3LGB9Q&lc=UgxfYL-Ay3Cjb2uOAaR4AaABAg "
   ]
  },
  {
   "cell_type": "markdown",
   "metadata": {},
   "source": [
    "### Recursion \n",
    "\n",
    " Recursion is a method of solving a computational problem where the solution depends on solutions to smaller instances of the same problem.[1][2] Recursion solves such recursive problems by using functions that call themselves from within their own code. The approach can be applied to many types of problems, and recursion is one of the central ideas of computer science."
   ]
  },
  {
   "cell_type": "code",
   "execution_count": null,
   "metadata": {},
   "outputs": [],
   "source": [
    "## standard\n",
    "\n",
    "def factorial(n: int) -> int:\n",
    "    prod = 1\n",
    "    for i in range(1, n + 1):\n",
    "        prod *= i\n",
    "    return prod\n",
    "\n",
    "# functional programming (recursive function) \n",
    "# this is a lot faster than the standard iterative approach\n",
    "\n",
    "def recursive_factorial(n: int) -> int:\n",
    "    if n == 1:\n",
    "        return n\n",
    "    \n",
    "    else:\n",
    "        temp = recursive_factorial(n-1)\n",
    "        temp = temp * n \n",
    "    \n",
    "    return temp"
   ]
  },
  {
   "cell_type": "markdown",
   "metadata": {},
   "source": [
    "### Permutations\n",
    "\n",
    "Una permutazione è un modo di ordinare in successione oggetti distinti, come nell'anagramma di una parola. In termini matematici una permutazione di un insieme X si definisce come una funzione biiettiva $ {\\displaystyle p\\colon X\\rightarrow X}$.\n",
    "\n",
    "In mathematics, a permutation of a set is, loosely speaking, an arrangement of its members into a sequence or linear order, or if the set is already ordered, a rearrangement of its elements. The word \"permutation\" also refers to the act or process of changing the linear order of an ordered set.\n"
   ]
  },
  {
   "cell_type": "code",
   "execution_count": null,
   "metadata": {},
   "outputs": [],
   "source": [
    "def permute(string: str, pocket: str='') -> str:\n",
    "    if len(string) == 0:\n",
    "        print(pocket)\n",
    "    else:\n",
    "        for i in range(len(string)):\n",
    "            letter = string[i]\n",
    "            front = string[0:i]\n",
    "            back = string[i+1:]\n",
    "            union = front + back\n",
    "            permute(union, letter + pocket)\n",
    "            \n",
    "permute('MOM')"
   ]
  },
  {
   "cell_type": "markdown",
   "metadata": {},
   "source": [
    "### Linear (Sequential) Search \n",
    "\n",
    "In computer science, a linear search or sequential search is a method for finding an element within a list. It sequentially checks each element of the list until a match is found or the whole list has been searched."
   ]
  },
  {
   "cell_type": "code",
   "execution_count": null,
   "metadata": {},
   "outputs": [],
   "source": [
    "def linear_search(arr: list, target: int) -> int:\n",
    "    for i in range(len(arr)):\n",
    "        if arr[i] == target:\n",
    "            \n",
    "            return i"
   ]
  },
  {
   "cell_type": "markdown",
   "metadata": {},
   "source": [
    "### Binary Search\n",
    "\n",
    "In computer science, binary search, also known as half-interval search, logarithmic search, or binary chop, is a search algorithm that finds the position of a target value within a sorted array. \n",
    "Binary search compares the target value to the middle element of the array. If they are not equal, the half in which the target cannot lie is eliminated and the search continues on the remaining half, again taking the middle element to compare to the target value, and repeating this until the target value is found. If the search ends with the remaining half being empty, the target is not in the array.\n",
    "\n",
    "Binary search runs in logarithmic time in the worst case, making ${\\displaystyle O(\\log n)}$ comparisons, where ${\\displaystyle n}$ is the number of elements in the array."
   ]
  },
  {
   "cell_type": "code",
   "execution_count": 12,
   "metadata": {},
   "outputs": [
    {
     "data": {
      "text/plain": [
       "-1"
      ]
     },
     "execution_count": 12,
     "metadata": {},
     "output_type": "execute_result"
    }
   ],
   "source": [
    "# Iterative binary search\n",
    "\n",
    "def iterative_binary(arr: list, start: int, end: int, target: int) -> int:\n",
    "    while start <= end:\n",
    "        mid = (start + end) // 2\n",
    "        if arr[mid] < target:\n",
    "            start = mid + 1\n",
    "        elif arr[mid] > target:\n",
    "            end = mid - 1\n",
    "        else:\n",
    "            return mid\n",
    "    return -1\n",
    "    \n",
    "\n",
    "arr = [2, 5, 8, 10, 16, 22, 25]\n",
    "target = 26\n",
    "start = 0\n",
    "end = len(arr) - 1\n",
    "\n",
    "iterative_binary(arr, start, end, target)        \n"
   ]
  },
  {
   "cell_type": "code",
   "execution_count": 15,
   "metadata": {},
   "outputs": [
    {
     "name": "stdout",
     "output_type": "stream",
     "text": [
      "None\n"
     ]
    }
   ],
   "source": [
    "# recursive binary search\n",
    "\n",
    "def recursive_binary(arr: list, start: int, end: int, target: int) -> int:\n",
    "    if end >= start:\n",
    "        mid = (start + end) // 2\n",
    "        if arr[mid] == target:\n",
    "            return mid\n",
    "        elif arr[mid] < target:\n",
    "            recursive_binary(arr, mid + 1, end, target)\n",
    "        else:\n",
    "            return recursive_binary(arr, end, mid -1 , target)\n",
    "    else:\n",
    "        return -1\n",
    "    \n",
    "\n",
    "arr = [2, 5, 8, 10, 16, 22, 25]\n",
    "target = 55\n",
    "start = 0\n",
    "end = len(arr) - 1\n",
    "\n",
    "print(recursive_binary(arr, start, end, target))\n",
    "\n",
    "\n",
    "\n"
   ]
  },
  {
   "cell_type": "code",
   "execution_count": 2,
   "metadata": {},
   "outputs": [
    {
     "name": "stdout",
     "output_type": "stream",
     "text": [
      "Element is not present in array\n"
     ]
    }
   ],
   "source": [
    "def binary_search(arr, low, high, x):\n",
    "     if high >= low:\n",
    "         mid = (high + low) // 2\n",
    "         if arr[mid] == x:\n",
    "            return mid\n",
    "         elif arr[mid] > x:\n",
    "            return binary_search(arr, low, mid - 1, x)\n",
    "         else:\n",
    "            return binary_search(arr, mid + 1, high, x)\n",
    "     else:\n",
    "        return -1\n",
    "\n",
    "arr = [2, 5, 8, 10, 16, 22, 25]\n",
    "x = 55\n",
    " \n",
    "result = binary_search(arr, 0, len(arr)-1, x)\n",
    " \n",
    "if result != -1:\n",
    "    print(\"Element is present at index\", str(result))\n",
    "else:\n",
    "    print(\"Element is not present in array\")"
   ]
  },
  {
   "cell_type": "code",
   "execution_count": null,
   "metadata": {},
   "outputs": [],
   "source": []
  }
 ],
 "metadata": {
  "kernelspec": {
   "display_name": "Python 3.8.12 ('web_dev')",
   "language": "python",
   "name": "python3"
  },
  "language_info": {
   "codemirror_mode": {
    "name": "ipython",
    "version": 3
   },
   "file_extension": ".py",
   "mimetype": "text/x-python",
   "name": "python",
   "nbconvert_exporter": "python",
   "pygments_lexer": "ipython3",
   "version": "3.8.12"
  },
  "orig_nbformat": 4,
  "vscode": {
   "interpreter": {
    "hash": "bbe88f1c4aac15e832cd43c88f002a08158c14e567f9c7189aa5683aeb7e591e"
   }
  }
 },
 "nbformat": 4,
 "nbformat_minor": 2
}
