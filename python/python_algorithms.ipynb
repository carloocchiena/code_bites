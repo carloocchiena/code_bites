{
 "cells": [
  {
   "cell_type": "markdown",
   "metadata": {},
   "source": [
    "# Algorthms in Python\n",
    "\n",
    "An overview of the most used algos in CS, analyzed in Python language.\n",
    "\n",
    "Source: https://www.youtube.com/watch?v=fW_OS3LGB9Q&lc=UgxfYL-Ay3Cjb2uOAaR4AaABAg "
   ]
  },
  {
   "cell_type": "markdown",
   "metadata": {},
   "source": [
    "### Recursion \n",
    "\n",
    " Recursion is a method of solving a computational problem where the solution depends on solutions to smaller instances of the same problem.[1][2] Recursion solves such recursive problems by using functions that call themselves from within their own code. The approach can be applied to many types of problems, and recursion is one of the central ideas of computer science."
   ]
  },
  {
   "cell_type": "code",
   "execution_count": null,
   "metadata": {},
   "outputs": [],
   "source": [
    "## standard\n",
    "\n",
    "def factorial(n: int) -> int:\n",
    "    prod = 1\n",
    "    for i in range(1, n + 1):\n",
    "        prod *= i\n",
    "    return prod\n",
    "\n",
    "# functional programming (recursive function) \n",
    "# this is a lot faster than the standard iterative approach\n",
    "\n",
    "def recursive_factorial(n: int) -> int:\n",
    "    if n == 1:\n",
    "        return n\n",
    "    \n",
    "    else:\n",
    "        temp = recursive_factorial(n-1)\n",
    "        temp = temp * n \n",
    "    \n",
    "    return temp"
   ]
  },
  {
   "cell_type": "markdown",
   "metadata": {},
   "source": [
    "### Permutations\n",
    "\n",
    "A permutation is a way of ordering distinct objects successively, as in the anagram of a word. In mathematical terms, a permutation of a set X is defined as a bijective function $ {\\displaystyle p\\colon X\\rightarrow X}$.\n",
    "\n",
    "In mathematics, a permutation of a set is, loosely speaking, an arrangement of its members into a sequence or linear order, or if the set is already ordered, a rearrangement of its elements. The word \"permutation\" also refers to the act or process of changing the linear order of an ordered set."
   ]
  },
  {
   "cell_type": "code",
   "execution_count": null,
   "metadata": {},
   "outputs": [],
   "source": [
    "def permute(string: str, pocket: str='') -> str:\n",
    "    if len(string) == 0:\n",
    "        print(pocket)\n",
    "    else:\n",
    "        for i in range(len(string)):\n",
    "            letter = string[i]\n",
    "            front = string[0:i]\n",
    "            back = string[i+1:]\n",
    "            union = front + back\n",
    "            permute(union, letter + pocket)\n",
    "            \n",
    "permute('SIC')"
   ]
  },
  {
   "cell_type": "markdown",
   "metadata": {},
   "source": [
    "### Linear (Sequential) Search \n",
    "\n",
    "In computer science, a linear search or sequential search is a method for finding an element within a list. It sequentially checks each element of the list until a match is found or the whole list has been searched."
   ]
  },
  {
   "cell_type": "code",
   "execution_count": null,
   "metadata": {},
   "outputs": [],
   "source": [
    "def linear_search(arr: list, target: int) -> int:\n",
    "    for i in range(len(arr)):\n",
    "        if arr[i] == target:\n",
    "            \n",
    "            return i"
   ]
  },
  {
   "cell_type": "markdown",
   "metadata": {},
   "source": [
    "### Binary Search\n",
    "\n",
    "In computer science, binary search, also known as half-interval search, logarithmic search, or binary chop, is a search algorithm that finds the position of a target value within a sorted array. \n",
    "Binary search compares the target value to the middle element of the array. If they are not equal, the half in which the target cannot lie is eliminated and the search continues on the remaining half, again taking the middle element to compare to the target value, and repeating this until the target value is found. If the search ends with the remaining half being empty, the target is not in the array.\n",
    "\n",
    "Binary search runs in logarithmic time in the worst case, making ${\\displaystyle O(\\log n)}$ comparisons, where ${\\displaystyle n}$ is the number of elements in the array."
   ]
  },
  {
   "cell_type": "code",
   "execution_count": null,
   "metadata": {},
   "outputs": [],
   "source": [
    "# Iterative binary search\n",
    "\n",
    "def iterative_binary(arr: list, start: int, end: int, target: int) -> int:\n",
    "    while start <= end:\n",
    "        mid = (start + end) // 2\n",
    "        if arr[mid] < target:\n",
    "            start = mid + 1\n",
    "        elif arr[mid] > target:\n",
    "            end = mid - 1\n",
    "        else:\n",
    "            return mid\n",
    "    return -1\n",
    "    \n",
    "\n",
    "arr = [2, 5, 8, 10, 16, 22, 25]\n",
    "target = 26\n",
    "start = 0\n",
    "end = len(arr) - 1\n",
    "\n",
    "iterative_binary(arr, start, end, target)        \n"
   ]
  },
  {
   "cell_type": "code",
   "execution_count": null,
   "metadata": {},
   "outputs": [],
   "source": [
    "# Recursive binary search\n",
    "\n",
    "def recursive_binary(arr: list, start: int, end: int, target: int) -> int:\n",
    "    if end >= start:\n",
    "        mid = (start + end) // 2\n",
    "        if arr[mid] == target:\n",
    "            return mid\n",
    "        elif arr[mid] > target:\n",
    "            return recursive_binary(arr, start, mid - 1, target)\n",
    "        elif arr[mid] < target:\n",
    "            return recursive_binary(arr, mid + 1, end, target)\n",
    "    else:\n",
    "        return -1\n",
    "    \n",
    "\n",
    "arr = [2, 5, 8, 10, 16, 22, 25]\n",
    "target = 55\n",
    "start = 0\n",
    "end = len(arr) - 1\n",
    "\n",
    "print(recursive_binary(arr, start, end, target))\n"
   ]
  },
  {
   "cell_type": "markdown",
   "metadata": {},
   "source": [
    "### Bubble sort\n",
    "\n",
    "Bubble Sort is the simplest sorting algorithm that works by repeatedly swapping the adjacent elements if they are in the wrong order. This algorithm is not suitable for large data sets as its average and worst-case time complexity is quite high.\n",
    "\n",
    "Bubble sort has a worst-case and average complexity of ${\\displaystyle O(n^{2})}$, where ${\\displaystyle n}$ is the number of items being sorted. Most practical sorting algorithms have substantially better worst-case or average complexity, often ${\\displaystyle O(n\\log n)}$. Even other ${\\displaystyle O(n^{2})}$ sorting algorithms, such as insertion sort, generally run faster than bubble sort, and are no more complex. For this reason, bubble sort is rarely used in practice."
   ]
  },
  {
   "cell_type": "code",
   "execution_count": null,
   "metadata": {},
   "outputs": [],
   "source": [
    "# Bubble sort\n",
    "def bubble_optimized(arr: list) -> list:\n",
    "    iterations = 0\n",
    "    for i in range(len(arr)):\n",
    "        for j in range(len(arr)-i-1):\n",
    "            iterations += 1\n",
    "            if arr[j] > arr[j+1]:\n",
    "                arr[j], arr[j+1] = arr[j+1], arr[j]\n",
    "    return arr, iterations\n",
    "\n",
    "arr = [9, 4, 5, 6, 7, 3, 8]\n",
    "\n",
    "bubble_optimized(arr)\n"
   ]
  },
  {
   "cell_type": "markdown",
   "metadata": {},
   "source": [
    "### Insertion sort\n",
    "\n",
    "Insertion sort is a simple sorting algorithm that works similar to the way you sort playing cards in your hands. The array is virtually split into a sorted and an unsorted part. Values from the unsorted part are picked and placed at the correct position in the sorted part."
   ]
  },
  {
   "cell_type": "code",
   "execution_count": null,
   "metadata": {},
   "outputs": [],
   "source": [
    "# Insertion sort\n",
    "\n",
    "def insert_sort(arr: list) -> list:\n",
    "    for j in range(1, len(arr)):\n",
    "        key = arr[j]\n",
    "        i = j - 1\n",
    "        while i >= 0 and arr[i] > key:\n",
    "            arr[i + 1] = arr[i]\n",
    "            i -= 1\n",
    "        arr[i + 1] = key\n",
    "    return arr\n",
    "\n",
    "arr = [9, 4, 5, 6, 7, 3, 8]\n",
    "insert_sort(arr)\n"
   ]
  },
  {
   "cell_type": "markdown",
   "metadata": {},
   "source": [
    "### Linked list\n",
    "\n",
    "In computer science, a linked list is a linear collection of data elements whose order is not given by their physical placement in memory. Instead, each element points to the next. It is a data structure consisting of a collection of nodes which together represent a sequence. In its most basic form, each node contains: data, and a reference (in other words, a link) to the next node in the sequence. This structure allows for efficient insertion or removal of elements from any position in the sequence during iteration. "
   ]
  },
  {
   "cell_type": "code",
   "execution_count": null,
   "metadata": {},
   "outputs": [],
   "source": [
    "# Linked List \n",
    "\n",
    "class Node:\n",
    "    def __init__(self, data: str):\n",
    "        self.data = data\n",
    "        self.next = None\n",
    "        \n",
    "\n",
    "class LinkedList:\n",
    "    \n",
    "    def traversal(self):\n",
    "        first = self.head\n",
    "        while first:\n",
    "            print(first.data)\n",
    "            first = first.next\n",
    "            \n",
    "    def insert_new_header(self, new_data: str):\n",
    "        new_node = Node(new_data)\n",
    "        new_node.next = self.head\n",
    "        self.head = new_node\n",
    "        \n",
    "    def search(self, x: str) -> bool:\n",
    "        temp = self.head\n",
    "        while temp is not None:\n",
    "            if temp.data == x:\n",
    "                return True\n",
    "            temp = temp.next\n",
    "        else:\n",
    "            return False\n",
    "        \n",
    "    def delete_node(self, data):\n",
    "        temp = self.head\n",
    "        while temp is not None:\n",
    "            if temp.data == data:\n",
    "                break\n",
    "            prev = temp\n",
    "            temp = temp.next\n",
    "        prev.next = temp.next\n",
    "        \n",
    "    def delete_tail(self, data):\n",
    "        temp = self.head\n",
    "        while temp.next.next is not None:\n",
    "            temp = temp.next\n",
    "        temp.next = None\n",
    "            \n",
    "\n",
    "family = LinkedList()\n",
    "family.head = Node('Alice')\n",
    "husband = Node('Bob')\n",
    "first_kid = Node('Amy')\n",
    "second_kid = Node('Jenny')\n",
    "        \n",
    "family.head.next = husband\n",
    "husband.next = first_kid\n",
    "first_kid.next = second_kid\n",
    "\n",
    "family.traversal()\n",
    "family.insert_new_header('Jeremy')\n",
    "family.traversal()\n",
    "family.search('Bob')\n",
    "family.delete_node('Bob')\n",
    "family.traversal()\n",
    "family.delete_node('Jenny')\n",
    "family.traversal()"
   ]
  },
  {
   "cell_type": "markdown",
   "metadata": {},
   "source": [
    "### Hash Tables\n",
    "\n",
    "Hash Table is a data structure which stores data in an associative manner. In a hash table, data is stored in an array format, where each data value has its own unique index value. Access of data becomes very fast if we know the index of the desired data.\n",
    "\n",
    "Thus, it becomes a data structure in which insertion and search operations are very fast irrespective of the size of the data. Hash Table uses an array as a storage medium and uses hash technique to generate an index where an element is to be inserted or is to be located from."
   ]
  },
  {
   "cell_type": "code",
   "execution_count": null,
   "metadata": {},
   "outputs": [],
   "source": [
    "# Example of DIY hash function\n",
    "\n",
    "def hash_function(key):\n",
    "     return sum(\n",
    "         index * ord(character)\n",
    "         for index, character in enumerate(repr(key), start=1)\n",
    "         )\n",
    "     \n",
    "hash_function('hello world')"
   ]
  },
  {
   "cell_type": "markdown",
   "metadata": {},
   "source": [
    "### Merge Sort\n",
    "\n",
    "In computer science, merge sort (also commonly spelled as mergesort) is an efficient, general-purpose, and comparison-based sorting algorithm. Most implementations produce a stable sort, which means that the order of equal elements is the same in the input and output. Merge sort is a divide-and-conquer algorithm that was invented by John von Neumann in 1945.\n",
    "\n",
    "Conceptually, a merge sort works as follows:\n",
    "\n",
    "1. Divide the unsorted list into n sublists, each containing one element (a list of one element is considered sorted).\n",
    "2. Repeatedly merge sublists to produce new sorted sublists until there is only one sublist remaining. This will be the sorted list."
   ]
  },
  {
   "cell_type": "code",
   "execution_count": null,
   "metadata": {},
   "outputs": [],
   "source": [
    "# Merge-sort by brute-force\n",
    "\n",
    "def raw_merge_sort(arr: list) -> list:\n",
    "    sorted_list = []\n",
    "    \n",
    "    while arr:\n",
    "        minimum = arr[0]\n",
    "        for x in arr:\n",
    "            if x < minimum:\n",
    "                minimum = x\n",
    "        sorted_list.append(minimum)\n",
    "        arr.remove(minimum)\n",
    "\n",
    "    return sorted_list\n",
    "\n",
    "arr = [-8, 10, 55, 1, 4, 9]\n",
    "\n",
    "raw_merge_sort(arr)"
   ]
  },
  {
   "cell_type": "code",
   "execution_count": null,
   "metadata": {},
   "outputs": [],
   "source": [
    "# Recursive Merge-Sort\n",
    "\n",
    "def recursive_merge_sort(arr: list) -> list:\n",
    "    if len(arr) <= 1:\n",
    "        return arr\n",
    "    \n",
    "    mid = len(arr) // 2\n",
    "    left = recursive_merge_sort(arr[:mid])\n",
    "    right = recursive_merge_sort(arr[mid:])\n",
    "    merged = []\n",
    "    \n",
    "    while left and right:\n",
    "        if left[0] <= right[0]:\n",
    "            merged.append(left.pop(0))\n",
    "        else:\n",
    "            merged.append(right.pop(0))\n",
    "        \n",
    "    merged.extend(right if right else left)\n",
    "    \n",
    "    return merged\n",
    "\n",
    "arr = [-8, 10, 55, 1, 4, 9]\n",
    "\n",
    "recursive_merge_sort(arr)\n"
   ]
  },
  {
   "cell_type": "code",
   "execution_count": null,
   "metadata": {},
   "outputs": [],
   "source": [
    "# Built-in Sorted method Merge-Sort\n",
    "\n",
    "def built_merge_sort(arr: list) -> list:\n",
    "    mid = len(arr) // 2\n",
    "    left = sorted(arr[:mid])\n",
    "    right = sorted(arr[mid:])\n",
    "    merged = []\n",
    "    \n",
    "    while min(len(left), len(right)) > 0:\n",
    "        if left[0] > right[0]:\n",
    "            insert = right.pop(0)\n",
    "            merged.append(insert)\n",
    "        elif left[0] <= right[0]:\n",
    "            insert = left.pop(0)\n",
    "            merged.append(insert)\n",
    "    \n",
    "    if len(left) > 0:\n",
    "        for i in left:\n",
    "            merged.append(i)\n",
    "    if len(right) > 0:\n",
    "        for i in left:\n",
    "            merged.append(i)\n",
    "    \n",
    "    return merged\n",
    "\n",
    "arr = [-8, 10, 55, 1, 4, 9]\n",
    "\n",
    "built_merge_sort(arr)\n",
    "        "
   ]
  },
  {
   "cell_type": "markdown",
   "metadata": {},
   "source": [
    "### Matrix Multiplication\n",
    "\n",
    "In mathematics, particularly in linear algebra, matrix multiplication is a binary operation that produces a matrix from two matrices. For matrix multiplication, the number of columns in the first matrix must be equal to the number of rows in the second matrix. The resulting matrix, known as the matrix product, has the number of rows of the first and the number of columns of the second matrix. The product of matrices $A$ and $B$ is denoted as $AB$.\n",
    "\n",
    "#### Notation\n",
    "Matrices are represented by capital letters in bold, e.g. $A$; vectors in lowercase bold, e.g. $a$; and entries of vectors and matrices are italic (they are numbers from a field), e.g. A and a. Index notation is often the clearest way to express definitions, and is used as standard in the literature. The entry in row i, column j of matrix A is indicated by (A)ij, Aij or aij. In contrast, a single subscript, e.g. A1, A2, is used to select a matrix (not a matrix entry) from a collection of matrices."
   ]
  },
  {
   "cell_type": "code",
   "execution_count": null,
   "metadata": {},
   "outputs": [],
   "source": []
  }
 ],
 "metadata": {
  "kernelspec": {
   "display_name": "Python 3.8.12 ('web_dev')",
   "language": "python",
   "name": "python3"
  },
  "language_info": {
   "codemirror_mode": {
    "name": "ipython",
    "version": 3
   },
   "file_extension": ".py",
   "mimetype": "text/x-python",
   "name": "python",
   "nbconvert_exporter": "python",
   "pygments_lexer": "ipython3",
   "version": "3.8.12"
  },
  "orig_nbformat": 4,
  "vscode": {
   "interpreter": {
    "hash": "bbe88f1c4aac15e832cd43c88f002a08158c14e567f9c7189aa5683aeb7e591e"
   }
  }
 },
 "nbformat": 4,
 "nbformat_minor": 2
}
