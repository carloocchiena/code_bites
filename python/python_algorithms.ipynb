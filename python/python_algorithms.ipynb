{
 "cells": [
  {
   "cell_type": "markdown",
   "metadata": {},
   "source": [
    "# Algorithms in Python\n",
    "\n",
    "An overview of the most used algos in CS & DS, analyzed in Python language.\n"
   ]
  },
  {
   "cell_type": "markdown",
   "metadata": {},
   "source": [
    "### ratingsecursion \n",
    "\n",
    " ratingsecursion is a method of solving a computational problem where the solution depends on solutions to smaller instances of the same problem.[1][2] ratingsecursion solves such recursive problems by using functions that call themselves from within their own code. The approach can be applied to many types of problems, and recursion is one of the central ideas of computer science."
   ]
  },
  {
   "cell_type": "code",
   "execution_count": null,
   "metadata": {},
   "outputs": [],
   "source": [
    "## standard\n",
    "\n",
    "def factorial(n: int) -> int:\n",
    "    prod = 1\n",
    "    for i in range(1, n + 1):\n",
    "        prod *= i\n",
    "    return prod\n",
    "\n",
    "# functional programming (recursive function) \n",
    "# this is a lot faster than the standard iterative approach\n",
    "\n",
    "def recursive_factorial(n: int) -> int:\n",
    "    if n == 1:\n",
    "        return n\n",
    "    \n",
    "    else:\n",
    "        temp = recursive_factorial(n-1)\n",
    "        temp = temp * n \n",
    "    \n",
    "    return temp"
   ]
  },
  {
   "cell_type": "markdown",
   "metadata": {},
   "source": [
    "### Permutations\n",
    "\n",
    "A permutation is a way of ordering distinct objects successively, as in the anagram of a word. In mathematical terms, a permutation of a set X is defined as a bijective function $ {\\displaystyle p\\colon X\\rightarrow X}$.\n",
    "\n",
    "In mathematics, a permutation of a set is, loosely speaking, an arrangement of its members into a sequence or linear order, or if the set is already ordered, a rearrangement of its elements. The word \"permutation\" also refers to the act or process of changing the linear order of an ordered set."
   ]
  },
  {
   "cell_type": "code",
   "execution_count": null,
   "metadata": {},
   "outputs": [],
   "source": [
    "def permute(string: str, pocket: str='') -> str:\n",
    "    if len(string) == 0:\n",
    "        print(pocket)\n",
    "    else:\n",
    "        for i in range(len(string)):\n",
    "            letter = string[i]\n",
    "            front = string[0:i]\n",
    "            back = string[i+1:]\n",
    "            union = front + back\n",
    "            permute(union, letter + pocket)\n",
    "            \n",
    "permute('SIC')"
   ]
  },
  {
   "cell_type": "markdown",
   "metadata": {},
   "source": [
    "### Linear (Sequential) Search \n",
    "\n",
    "In computer science, a linear search or sequential search is a method for finding an element within a list. It sequentially checks each element of the list until a match is found or the whole list has been searched."
   ]
  },
  {
   "cell_type": "code",
   "execution_count": null,
   "metadata": {},
   "outputs": [],
   "source": [
    "def linear_search(arr: list, target: int) -> int:\n",
    "    for i in range(len(arr)):\n",
    "        if arr[i] == target:\n",
    "            \n",
    "            return i"
   ]
  },
  {
   "cell_type": "markdown",
   "metadata": {},
   "source": [
    "### Binary Search\n",
    "\n",
    "In computer science, binary search, also known as half-interval search, logarithmic search, or binary chop, is a search algorithm that finds the position of a target value within a sorted array. \n",
    "Binary search compares the target value to the middle element of the array. If they are not equal, the half in which the target cannot lie is eliminated and the search continues on the remaining half, again taking the middle element to compare to the target value, and repeating this until the target value is found. If the search ends with the remaining half being empty, the target is not in the array.\n",
    "\n",
    "Binary search runs in logarithmic time in the worst case, making ${\\displaystyle O(\\log n)}$ comparisons, where ${\\displaystyle n}$ is the number of elements in the array."
   ]
  },
  {
   "cell_type": "code",
   "execution_count": null,
   "metadata": {},
   "outputs": [],
   "source": [
    "# Iterative binary search\n",
    "\n",
    "def iterative_binary(arr: list, start: int, end: int, target: int) -> int:\n",
    "    while start <= end:\n",
    "        mid = (start + end) // 2\n",
    "        if arr[mid] < target:\n",
    "            start = mid + 1\n",
    "        elif arr[mid] > target:\n",
    "            end = mid - 1\n",
    "        else:\n",
    "            return mid\n",
    "    return -1\n",
    "    \n",
    "\n",
    "arr = [2, 5, 8, 10, 16, 22, 25]\n",
    "target = 26\n",
    "start = 0\n",
    "end = len(arr) - 1\n",
    "\n",
    "iterative_binary(arr, start, end, target)        \n"
   ]
  },
  {
   "cell_type": "code",
   "execution_count": null,
   "metadata": {},
   "outputs": [],
   "source": [
    "# ratingsecursive binary search\n",
    "\n",
    "def recursive_binary(arr: list, start: int, end: int, target: int) -> int:\n",
    "    if end >= start:\n",
    "        mid = (start + end) // 2\n",
    "        if arr[mid] == target:\n",
    "            return mid\n",
    "        elif arr[mid] > target:\n",
    "            return recursive_binary(arr, start, mid - 1, target)\n",
    "        elif arr[mid] < target:\n",
    "            return recursive_binary(arr, mid + 1, end, target)\n",
    "    else:\n",
    "        return -1\n",
    "    \n",
    "\n",
    "arr = [2, 5, 8, 10, 16, 22, 25]\n",
    "target = 55\n",
    "start = 0\n",
    "end = len(arr) - 1\n",
    "\n",
    "print(recursive_binary(arr, start, end, target))\n"
   ]
  },
  {
   "cell_type": "markdown",
   "metadata": {},
   "source": [
    "### Bubble sort\n",
    "\n",
    "Bubble Sort is the simplest sorting algorithm that works by repeatedly swapping the adjacent elements if they are in the wrong order. This algorithm is not suitable for large data sets as its average and worst-case time complexity is quite high.\n",
    "\n",
    "Bubble sort has a worst-case and average complexity of ${\\displaystyle O(n^{2})}$, where ${\\displaystyle n}$ is the number of items being sorted. Most practical sorting algorithms have substantially better worst-case or average complexity, often ${\\displaystyle O(n\\log n)}$. Even other ${\\displaystyle O(n^{2})}$ sorting algorithms, such as insertion sort, generally run faster than bubble sort, and are no more complex. For this reason, bubble sort is rarely used in practice."
   ]
  },
  {
   "cell_type": "code",
   "execution_count": null,
   "metadata": {},
   "outputs": [],
   "source": [
    "# Bubble sort\n",
    "def bubble_optimized(arr: list) -> list:\n",
    "    iterations = 0\n",
    "    for i in range(len(arr)):\n",
    "        for j in range(len(arr)-i-1):\n",
    "            iterations += 1\n",
    "            if arr[j] > arr[j+1]:\n",
    "                arr[j], arr[j+1] = arr[j+1], arr[j]\n",
    "    return arr, iterations\n",
    "\n",
    "arr = [9, 4, 5, 6, 7, 3, 8]\n",
    "\n",
    "bubble_optimized(arr)\n"
   ]
  },
  {
   "cell_type": "markdown",
   "metadata": {},
   "source": [
    "### Insertion sort\n",
    "\n",
    "Insertion sort is a simple sorting algorithm that works similar to the way you sort playing cards in your hands. The array is virtually split into a sorted and an unsorted part. Values from the unsorted part are picked and placed at the correct position in the sorted part."
   ]
  },
  {
   "cell_type": "code",
   "execution_count": null,
   "metadata": {},
   "outputs": [],
   "source": [
    "# Insertion sort\n",
    "\n",
    "def insert_sort(arr: list) -> list:\n",
    "    for j in range(1, len(arr)):\n",
    "        key = arr[j]\n",
    "        i = j - 1\n",
    "        while i >= 0 and arr[i] > key:\n",
    "            arr[i + 1] = arr[i]\n",
    "            i -= 1\n",
    "        arr[i + 1] = key\n",
    "    return arr\n",
    "\n",
    "arr = [9, 4, 5, 6, 7, 3, 8]\n",
    "insert_sort(arr)\n"
   ]
  },
  {
   "cell_type": "markdown",
   "metadata": {},
   "source": [
    "### Linked list\n",
    "\n",
    "In computer science, a linked list is a linear collection of data elements whose order is not given by their physical placement in memory. Instead, each element points to the next. It is a data structure consisting of a collection of nodes which together represent a sequence. In its most basic form, each node contains: data, and a reference (in other words, a link) to the next node in the sequence. This structure allows for efficient insertion or removal of elements from any position in the sequence during iteration. "
   ]
  },
  {
   "cell_type": "code",
   "execution_count": null,
   "metadata": {},
   "outputs": [],
   "source": [
    "# Linked List \n",
    "\n",
    "class Node:\n",
    "    def __init__(self, data: str):\n",
    "        self.data = data\n",
    "        self.next = None\n",
    "        \n",
    "\n",
    "class LinkedList:\n",
    "    \n",
    "    def traversal(self):\n",
    "        first = self.head\n",
    "        while first:\n",
    "            print(first.data)\n",
    "            first = first.next\n",
    "            \n",
    "    def insert_new_header(self, new_data: str):\n",
    "        new_node = Node(new_data)\n",
    "        new_node.next = self.head\n",
    "        self.head = new_node\n",
    "        \n",
    "    def search(self, x: str) -> bool:\n",
    "        temp = self.head\n",
    "        while temp is not None:\n",
    "            if temp.data == x:\n",
    "                return True\n",
    "            temp = temp.next\n",
    "        else:\n",
    "            return False\n",
    "        \n",
    "    def delete_node(self, data):\n",
    "        temp = self.head\n",
    "        while temp is not None:\n",
    "            if temp.data == data:\n",
    "                break\n",
    "            prev = temp\n",
    "            temp = temp.next\n",
    "        prev.next = temp.next\n",
    "        \n",
    "    def delete_tail(self, data):\n",
    "        temp = self.head\n",
    "        while temp.next.next is not None:\n",
    "            temp = temp.next\n",
    "        temp.next = None\n",
    "            \n",
    "\n",
    "family = LinkedList()\n",
    "family.head = Node('Alice')\n",
    "husband = Node('Bob')\n",
    "first_kid = Node('Amy')\n",
    "second_kid = Node('Jenny')\n",
    "        \n",
    "family.head.next = husband\n",
    "husband.next = first_kid\n",
    "first_kid.next = second_kid\n",
    "\n",
    "family.traversal()\n",
    "family.insert_new_header('Jeremy')\n",
    "family.traversal()\n",
    "family.search('Bob')\n",
    "family.delete_node('Bob')\n",
    "family.traversal()\n",
    "family.delete_node('Jenny')\n",
    "family.traversal()"
   ]
  },
  {
   "cell_type": "markdown",
   "metadata": {},
   "source": [
    "### Hash Tables\n",
    "\n",
    "Hash Table is a data structure which stores data in an associative manner. In a hash table, data is stored in an array format, where each data value has its own unique index value. Access of data becomes very fast if we know the index of the desired data.\n",
    "\n",
    "Thus, it becomes a data structure in which insertion and search operations are very fast irrespective of the size of the data. Hash Table uses an array as a storage medium and uses hash technique to generate an index where an element is to be inserted or is to be located from."
   ]
  },
  {
   "cell_type": "code",
   "execution_count": null,
   "metadata": {},
   "outputs": [],
   "source": [
    "# Example of DIY hash function\n",
    "\n",
    "def hash_function(key: tuple([str, int])) -> int:\n",
    "     return sum(\n",
    "         index * ord(character)\n",
    "         for index, character in enumerate(repr(key), start=1)\n",
    "         )\n",
    "     \n",
    "hash_function('hello world')\n"
   ]
  },
  {
   "cell_type": "markdown",
   "metadata": {},
   "source": [
    "### Merge Sort\n",
    "\n",
    "In computer science, merge sort (also commonly spelled as mergesort) is an efficient, general-purpose, and comparison-based sorting algorithm. Most implementations produce a stable sort, which means that the order of equal elements is the same in the input and output. Merge sort is a divide-and-conquer algorithm that was invented by John von Neumann in 1945.\n",
    "\n",
    "Conceptually, a merge sort works as follows:\n",
    "\n",
    "1. Divide the unsorted list into n sublists, each containing one element (a list of one element is considered sorted).\n",
    "2. ratingsepeatedly merge sublists to produce new sorted sublists until there is only one sublist remaining. This will be the sorted list."
   ]
  },
  {
   "cell_type": "code",
   "execution_count": null,
   "metadata": {},
   "outputs": [],
   "source": [
    "# Merge-sort by brute-force\n",
    "\n",
    "def raw_merge_sort(arr: list) -> list:\n",
    "    sorted_list = []\n",
    "    \n",
    "    while arr:\n",
    "        minimum = arr[0]\n",
    "        for x in arr:\n",
    "            if x < minimum:\n",
    "                minimum = x\n",
    "        sorted_list.append(minimum)\n",
    "        arr.remove(minimum)\n",
    "\n",
    "    return sorted_list\n",
    "\n",
    "arr = [-8, 10, 55, 1, 4, 9]\n",
    "\n",
    "raw_merge_sort(arr)"
   ]
  },
  {
   "cell_type": "code",
   "execution_count": null,
   "metadata": {},
   "outputs": [],
   "source": [
    "# ratingsecursive Merge-Sort\n",
    "\n",
    "def recursive_merge_sort(arr: list) -> list:\n",
    "    if len(arr) <= 1:\n",
    "        return arr\n",
    "    \n",
    "    mid = len(arr) // 2\n",
    "    left = recursive_merge_sort(arr[:mid])\n",
    "    right = recursive_merge_sort(arr[mid:])\n",
    "    merged = []\n",
    "    \n",
    "    while left and right:\n",
    "        if left[0] <= right[0]:\n",
    "            merged.append(left.pop(0))\n",
    "        else:\n",
    "            merged.append(right.pop(0))\n",
    "        \n",
    "    merged.extend(right if right else left)\n",
    "    \n",
    "    return merged\n",
    "\n",
    "arr = [-8, 10, 55, 1, 4, 9]\n",
    "\n",
    "recursive_merge_sort(arr)\n"
   ]
  },
  {
   "cell_type": "code",
   "execution_count": null,
   "metadata": {},
   "outputs": [],
   "source": [
    "# Built-in Sorted method Merge-Sort\n",
    "\n",
    "def built_merge_sort(arr: list) -> list:\n",
    "    mid = len(arr) // 2\n",
    "    left = sorted(arr[:mid])\n",
    "    right = sorted(arr[mid:])\n",
    "    merged = []\n",
    "    \n",
    "    while min(len(left), len(right)) > 0:\n",
    "        if left[0] > right[0]:\n",
    "            insert = right.pop(0)\n",
    "            merged.append(insert)\n",
    "        elif left[0] <= right[0]:\n",
    "            insert = left.pop(0)\n",
    "            merged.append(insert)\n",
    "    \n",
    "    if len(left) > 0:\n",
    "        for i in left:\n",
    "            merged.append(i)\n",
    "    if len(right) > 0:\n",
    "        for i in left:\n",
    "            merged.append(i)\n",
    "    \n",
    "    return merged\n",
    "\n",
    "arr = [-8, 10, 55, 1, 4, 9]\n",
    "\n",
    "built_merge_sort(arr)\n",
    "        "
   ]
  },
  {
   "cell_type": "markdown",
   "metadata": {},
   "source": [
    "### Matrix Multiplication\n",
    "\n",
    "In mathematics, particularly in linear algebra, matrix multiplication is a binary operation that produces a matrix from two matrices. For matrix multiplication, the number of columns in the first matrix must be equal to the number of rows in the second matrix. The resulting matrix, known as the matrix product, has the number of rows of the first and the number of columns of the second matrix. The product of matrices $A$ and $B$ is denoted as $AB$.\n",
    "\n",
    "#### Notation\n",
    "Matrices are represented by capital letters in bold, e.g. $A$; vectors in lowercase bold, e.g. $a$; and entries of vectors and matrices are italic (they are numbers from a field), e.g. A and a. Index notation is often the clearest way to express definitions, and is used as standard in the literature. The entry in row i, column j of matrix A is indicated by (A)ij, Aij or aij. In contrast, a single subscript, e.g. A1, A2, is used to select a matrix (not a matrix entry) from a collection of matrices."
   ]
  },
  {
   "cell_type": "code",
   "execution_count": 32,
   "metadata": {},
   "outputs": [
    {
     "name": "stdout",
     "output_type": "stream",
     "text": [
      "[28, 31]\n",
      "[100, 112]\n"
     ]
    }
   ],
   "source": [
    "# Matrix multiplication - Naive\n",
    "\n",
    "# A = 2 X 3\n",
    "A = [[0, 1, 2],\n",
    "     [3, 4, 5]]\n",
    "\n",
    "# B = 3 x 2\n",
    "B = [[6, 7],\n",
    "     [8, 9],\n",
    "     [10, 11]]\n",
    "\n",
    "# AB = 2 x 2 \n",
    "AB = [[0, 0],\n",
    "     [0, 0]]\n",
    "\n",
    "for i in range(len(A)):\n",
    "    for j in range(len(B[0])):\n",
    "        for k in range(len(B)):\n",
    "            AB[i][j] += A[i][k] * B[k][j]\n",
    "\n",
    "for v in AB:\n",
    "    print(v)        \n",
    "    "
   ]
  },
  {
   "cell_type": "code",
   "execution_count": 14,
   "metadata": {},
   "outputs": [
    {
     "data": {
      "text/plain": [
       "(2, 3)"
      ]
     },
     "execution_count": 14,
     "metadata": {},
     "output_type": "execute_result"
    }
   ],
   "source": [
    "# Matrix shape\n",
    "\n",
    "def matrix_shape(matrix: list) -> tuple:\n",
    "    rows = len(matrix)\n",
    "    columns = len(matrix[0])\n",
    "    \n",
    "    return (rows, columns)\n",
    "\n",
    "# A = 2 X 3\n",
    "A = [[0, 1, 2],\n",
    "     [3, 4, 5]]\n",
    "\n",
    "matrix_shape(A)"
   ]
  },
  {
   "cell_type": "markdown",
   "metadata": {},
   "source": [
    "#### Strassen algorithm for matrix multiplication\n",
    "\n",
    "In linear algebra, the Strassen algorithm, named after Volker Strassen, is an algorithm for matrix multiplication. It is faster than the standard matrix multiplication algorithm for large matrices, with a better asymptotic complexity, although the naive algorithm is often better for smaller matrices. The Strassen algorithm is slower than the fastest known algorithms for extremely large matrices, but such algorithms are not useful in practice, as they are much slower for matrices of practical size.\n",
    "\n",
    "Strassen’s method is a divide and conquer method that divide matrices to sub-matrices of size N/2 x N/2.\n",
    "\n",
    "Standard multiplication method has a time complexity of ${\\displaystyle O(8^{\\log _{2}n})=O(N^{\\log _{2}8})=O(N^{3})}$. Strasser algo has a time complexity of ${\\displaystyle \\approx O(N^{2.8074})}$.\n",
    "\n",
    "##### How to remember its application\n",
    "This is a clever method: https://www.youtube.com/watch?v=QuyiKeu-cos "
   ]
  },
  {
   "cell_type": "code",
   "execution_count": 10,
   "metadata": {},
   "outputs": [
    {
     "data": {
      "text/plain": [
       "array([[19, 22],\n",
       "       [43, 50]])"
      ]
     },
     "execution_count": 10,
     "metadata": {},
     "output_type": "execute_result"
    }
   ],
   "source": [
    "# Strassen Algo (iterative)\n",
    "\n",
    "import numpy as np\n",
    "\n",
    "A = np.array([[1, 2], \n",
    "              [3, 4]])\n",
    "\n",
    "B = np.array([[5, 6],\n",
    "              [7, 8]])\n",
    "\n",
    "def strassen_iter(A: list, B:list) -> list:\n",
    "    \n",
    "    # base case when size of matrices is 1x1\n",
    "    if (len(A) == 1):\n",
    "        return A[0][0] * B[0][0]\n",
    "    \n",
    "    # split the matrices into 2 x 2 quadrants\n",
    "    a, b, c, d = A[0, 0], A[0, 1], A[1, 0], A[1, 1]\n",
    "    e, f, g, h = B[0, 0], B[0, 1], B[1, 0], B[1, 1]\n",
    "    \n",
    "    # computing following the Strassen rule\n",
    "    p1 = a * (f - h)\n",
    "    p2 = (a + b) * h\n",
    "    p3 = (c + d) * e\n",
    "    p4 = d * (g - e)\n",
    "    p5 = (a + d) * (e + h)\n",
    "    p6 = (b - d) * (g + h)\n",
    "    p7 = (a - c) * (e + f)\n",
    "    \n",
    "    # computing the values of the final matrix AB\n",
    "    c1 = p5 + p4 - p2 + p6\n",
    "    c2 = p1 + p2\n",
    "    c3 = p3 + p4\n",
    "    c4 = p1 + p5 - p3 - p7\n",
    "    \n",
    "    AB = np.array([[c1, c2],\n",
    "                   [c3, c4]])\n",
    "    \n",
    "    return (AB)\n",
    "    \n",
    "    \n",
    "strassen_iter(A, B)"
   ]
  },
  {
   "cell_type": "code",
   "execution_count": 12,
   "metadata": {},
   "outputs": [
    {
     "data": {
      "text/plain": [
       "array([[19, 22],\n",
       "       [43, 50]])"
      ]
     },
     "execution_count": 12,
     "metadata": {},
     "output_type": "execute_result"
    }
   ],
   "source": [
    "# Strassen Algo (recursive)\n",
    "\n",
    "import numpy as np\n",
    "\n",
    "\n",
    "A = np.array([[1, 2], \n",
    "              [3, 4]])\n",
    "\n",
    "B = np.array([[5, 6],\n",
    "              [7, 8]])\n",
    "\n",
    "def split(matrix: list) -> list:\n",
    "    row, col = matrix.shape\n",
    "    row2, col2 = row //2, col // 2\n",
    "    return matrix[:row2, :col2], matrix[:row2, col2:], matrix[row2:, :col2], matrix[row2:, col2:]\n",
    "\n",
    "def strassen_recursive(A: list, B:list) -> list:\n",
    "    \n",
    "    # base case when size of matrices is 1x1\n",
    "    if (len(A) == 1):\n",
    "        return A[0][0] * B[0][0]\n",
    "    \n",
    "    # splitting the matrix recursively\n",
    "    a, b, c, d = split(A)\n",
    "    e, f, g, h = split(B)   \n",
    "    \n",
    "    # computing the 7 products recursively\n",
    "    p1 = strassen_recursive(a, f - h)\n",
    "    p2 = strassen_recursive(a + b, h)\n",
    "    p3 = strassen_recursive(c + d, e)\n",
    "    p4 = strassen_recursive(d, g - e)\n",
    "    p5 = strassen_recursive(a + d, e + h)\n",
    "    p6 = strassen_recursive(b - d, g + h)\n",
    "    p7 = strassen_recursive(a - c, e + f)\n",
    "    \n",
    "    # computing the values of the final matrix AB\n",
    "    c1 = p5 + p4 - p2 + p6\n",
    "    c2 = p1 + p2\n",
    "    c3 = p3 + p4\n",
    "    c4 = p1 + p5 - p3 - p7\n",
    "    \n",
    "    # combining the 4 quadrants into a single matrix, stacking them horizontally and vertically\n",
    "    AB = np.vstack((np.hstack((c1,c2)), np.hstack((c3,c4))))\n",
    "    \n",
    "    return AB\n",
    "\n",
    "strassen_recursive(A, B)\n",
    "    "
   ]
  },
  {
   "cell_type": "markdown",
   "metadata": {},
   "source": [
    "### Greedy Algorithms\n",
    "\n",
    "A greedy algorithm is any algorithm that follows the problem-solving heuristic of making the <strong>locally optimal choice</strong> at each stage. \n",
    "In many problems, a greedy strategy does not produce an optimal solution, but a greedy heuristic can yield locally optimal solutions that approximate a globally optimal solution in a reasonable amount of time.\n",
    "\n",
    "For example, a greedy strategy for the travelling salesman problem (which is $NP$ complexity) is the following heuristic: \"At each step of the journey, visit the nearest unvisited city.\" This heuristic does not intend to find the best solution, but it terminates in a reasonable number of steps; finding an optimal solution to such a complex problem typically requires unreasonably many steps. In mathematical optimization, greedy algorithms optimally solve combinatorial problems having the properties of matroids and give constant-factor approximations to optimization problems with the submodular structure.\n"
   ]
  },
  {
   "cell_type": "code",
   "execution_count": 2,
   "metadata": {},
   "outputs": [
    {
     "data": {
      "text/plain": [
       "6"
      ]
     },
     "execution_count": 2,
     "metadata": {},
     "output_type": "execute_result"
    }
   ],
   "source": [
    "# Mice in the holes - Easy Greedy Algo\n",
    "# ratingseturns the minimum time required to have all the mices into their holes, one mice per hole. \n",
    "\n",
    "def greedy_mice(mice: list, holes: list) -> int:\n",
    "    \n",
    "    max_diff = 0\n",
    "    \n",
    "    # we need to check if base constrait is true: a mice, a hole.\n",
    "    if len(mice) != len (holes):\n",
    "        return -999\n",
    "    \n",
    "    # sorting the mice and the holes:\n",
    "    mice.sort()\n",
    "    holes.sort()\n",
    "    \n",
    "    for i in range(len(mice)):\n",
    "        if max_diff < abs(mice[i] - holes[i]):\n",
    "            max_diff = abs(mice[i] - holes[i])\n",
    "            \n",
    "    return max_diff\n",
    "    \n",
    "mice = [2, -6, 3]\n",
    "holes = [7, 3, 0]\n",
    "\n",
    "greedy_mice(mice, holes)"
   ]
  },
  {
   "cell_type": "code",
   "execution_count": 31,
   "metadata": {},
   "outputs": [
    {
     "data": {
      "text/plain": [
       "7"
      ]
     },
     "execution_count": 31,
     "metadata": {},
     "output_type": "execute_result"
    }
   ],
   "source": [
    "# The candy problem - Easy Greedy Algo\n",
    "# source: https://leetcode.com/problems/candy/\n",
    "# There are N children standing in a line. Each child is assigned a rating value.\n",
    "# You are giving candies to these children subjected to the following requirements:\n",
    "# Each child must have at least one candy.\n",
    "# Children with a higher rating get more candies than their neighbors.\n",
    "# Return the minimum number of candies you need to have to distribute the candies to the children.\n",
    "\n",
    "class GreedyCandy:\n",
    "    def candy(self, ratings: list) -> int:\n",
    "        n, ans = len(ratings), [1]*len(ratings)\n",
    "        \n",
    "        for i in range(n-1):\n",
    "            if ratings[i] < ratings[i+1]:\n",
    "                ans[i+1] = max(1 + ans[i], ans[i+1])\n",
    "                \n",
    "        for i in range(n-2, -1, -1):\n",
    "            if ratings[i+1] < ratings[i]:\n",
    "                ans[i] = max(1 + ans[i+1], ans[i])\n",
    "        \n",
    "        return sum(ans)\n",
    "            \n",
    "GreedyCandy().candy([1, 5, 2, 1])"
   ]
  },
  {
   "cell_type": "code",
   "execution_count": 9,
   "metadata": {},
   "outputs": [
    {
     "data": {
      "text/plain": [
       "500"
      ]
     },
     "execution_count": 9,
     "metadata": {},
     "output_type": "execute_result"
    }
   ],
   "source": [
    "# The knapsack problem - Greedy Algo\n",
    "# The knapsack problem is a problem in combinatorial optimization. \n",
    "# Given a set of items, each with a weight and a value, \n",
    "# determine the number of each item to include in a collection \n",
    "# so that the total weight is less than or equal to a given limit and the total value is as large as possible. \n",
    "# It derives its name from the problem faced by someone who is constrained by a fixed-size knapsack. \n",
    "# Below example is \"bounded\": it  restricts the number of copies of each kind of item to a maximum non-negative integer value. \n",
    "\n",
    "def fractional_knapsack(value: list, weigth: list, capacity: int) -> int:\n",
    "    max_value = 0\n",
    "        \n",
    "    if len(weigth) != len(value):\n",
    "        return -999\n",
    "    \n",
    "    items = list(range(len(value)))\n",
    "    ratios = [v//w for v,w in zip(value, weigth)]\n",
    "    sorted_ratios = sorted(ratios, reverse=True)\n",
    "    items.sort(key=lambda i:ratios[i], reverse=True)\n",
    "    \n",
    "    fractions = [0] * len(value)\n",
    "    \n",
    "    for i in items:\n",
    "        if weigth[i] <= capacity:\n",
    "            fractions[i] = 1\n",
    "            max_value += value[i]\n",
    "            capacity -= weigth[i]\n",
    "        else:\n",
    "            fractions[i] = capacity // weigth[i]\n",
    "            max_value += value[i] * capacity // weight[i]\n",
    "            \n",
    "    return max_value\n",
    "\n",
    "weight = [30, 50, 10, 70, 40]\n",
    "value = [150, 100, 90, 140, 120]\n",
    "capacity = 150\n",
    "\n",
    "fractional_knapsack(value, weight, capacity)\n"
   ]
  },
  {
   "cell_type": "code",
   "execution_count": 21,
   "metadata": {},
   "outputs": [
    {
     "data": {
      "text/plain": [
       "'1/2 + 1/12'"
      ]
     },
     "execution_count": 21,
     "metadata": {},
     "output_type": "execute_result"
    }
   ],
   "source": [
    "# Egyptian Fractions calculator - Greedy Algo\n",
    "# An Egyptian fraction is a finite sum of distinct unit fractions, such as 1/2 + 1/3 + 1/16. \n",
    "# That is, each fraction in the expression has a numerator equal to 1 and a denominator that is a positive integer, \n",
    "# and all the denominators differ from each other.\n",
    "# Beyond their historical use, Egyptian fractions have some practical advantages over other representations of fractional numbers. \n",
    "# For instance, Egyptian fractions can help in dividing food or other objects into equal shares. \n",
    "# For example, if one wants to divide 5 pizzas equally among 8 diners, the Egyptian fraction:\n",
    "# 5/8 = 1/2 + 1/8 \n",
    "# means that each diner gets half a pizza plus another eighth of a pizza, \n",
    "# for example by splitting 4 pizzas into 8 halves, and the remaining pizza into 8 eighths.\n",
    "\n",
    "import math\n",
    "\n",
    "def egyptian_fraction(numerator: int, denominator: int) -> str:\n",
    "    egyptian_list = []\n",
    "    result = ''\n",
    "    \n",
    "    while numerator != 0:\n",
    "        x = math.ceil(denominator/numerator)\n",
    "        egyptian_list.append(x)\n",
    "        \n",
    "        numerator = x * numerator - denominator\n",
    "        denominator *= x\n",
    "        \n",
    "    for item in egyptian_list:\n",
    "        result += f'1/{item} + '\n",
    "        \n",
    "    result = result[:-3]\n",
    "    \n",
    "    return result\n",
    "\n",
    "egyptian_fraction(7, 12)\n",
    "        "
   ]
  },
  {
   "cell_type": "markdown",
   "metadata": {},
   "source": [
    "### Dynamic Programming\n",
    "\n",
    "Dynamic programming is both a mathematical optimization method and a computer programming method. The method was developed by Richard Bellman in the 1950s and has found applications in numerous fields, from aerospace engineering to economics.\n",
    "\n",
    "In both contexts it refers to simplifying a complicated problem by breaking it down into simpler sub-problems in a recursive manner. While some decision problems cannot be taken apart this way, decisions that span several points in time do often break apart recursively. Likewise, in computer science, if a problem can be solved optimally by breaking it into sub-problems and then recursively finding the optimal solutions to the sub-problems, then it is said to have optimal substructure.\n",
    "\n",
    "If sub-problems can be nested recursively inside larger problems, so that dynamic programming methods are applicable, then there is a relation between the value of the larger problem and the values of the sub-problems. In the optimization literature this relationship is called the Bellman equation."
   ]
  },
  {
   "cell_type": "code",
   "execution_count": 16,
   "metadata": {},
   "outputs": [
    {
     "name": "stdout",
     "output_type": "stream",
     "text": [
      "76 µs ± 296 ns per loop (mean ± std. dev. of 7 runs, 10000 loops each)\n",
      "13.3 µs ± 16.9 ns per loop (mean ± std. dev. of 7 runs, 100000 loops each)\n"
     ]
    }
   ],
   "source": [
    "# Ugly numbers - Easy dynamic programming\n",
    "# An ugly number is a positive integer whose prime factors are limited to 2, 3, and 5.\n",
    "\n",
    "def chained_div(x: int, y: int) -> int:\n",
    "    while x % y == 0:\n",
    "        x = x // y\n",
    "    \n",
    "    return x\n",
    "\n",
    "def ugly_check(num: int) -> bool:\n",
    "    \"\"\"Check if int is ugly or not\n",
    "    \"\"\"\n",
    "    num = chained_div(num, 2)\n",
    "    num = chained_div(num, 3)\n",
    "    num = chained_div(num, 5)\n",
    "    \n",
    "    if num == 1:\n",
    "        return True\n",
    "    else: \n",
    "        return False\n",
    "\n",
    "# Iterative approach \n",
    "  \n",
    "def nth_ugly_num_iterative(n: int) -> int:\n",
    "    \"\"\"Find the n-th ugly number\"\"\"\n",
    "    i = 1\n",
    "    counter = 1\n",
    "    \n",
    "    while n > counter:\n",
    "        i += 1\n",
    "        if ugly_check(i):\n",
    "            counter += 1\n",
    "            \n",
    "    return i\n",
    "    \n",
    "ugly_check(4917)\n",
    "nth_ugly_num_iterative(15)\n",
    "    \n",
    "# Dynamic programming approach\n",
    "def nth_ugly_num_dp(n: int) -> int:\n",
    "    dp_ugly = [0] * n\n",
    "    dp_ugly[0] = 1\n",
    "    \n",
    "    u2 = u3 = u5 = 0\n",
    "    \n",
    "    multiple_2 = 2\n",
    "    multiple_3 = 3\n",
    "    multiple_5 = 5\n",
    "    \n",
    "    for i in range(1, n):\n",
    "        dp_ugly[i] = min(multiple_2, multiple_3, multiple_5)\n",
    "        \n",
    "        if dp_ugly[i] == multiple_2:\n",
    "            u2 += 1\n",
    "            multiple_2 = dp_ugly[u2] * 2\n",
    "            \n",
    "        if dp_ugly[i] == multiple_3:\n",
    "            u3 += 1\n",
    "            multiple_3 = dp_ugly[u3] * 3\n",
    "            \n",
    "        if dp_ugly[i] == multiple_5:\n",
    "            u5 += 1\n",
    "            multiple_5 = dp_ugly[u5] * 5\n",
    "    \n",
    "    return dp_ugly[n - 1]\n",
    "\n",
    "nth_ugly_num_dp(15)\n",
    "        \n",
    "%timeit nth_ugly_num_iterative(15)\n",
    "%timeit nth_ugly_num_dp(15)"
   ]
  },
  {
   "cell_type": "markdown",
   "metadata": {},
   "source": [
    "#### The travelling salesman problem\n",
    "\n",
    "The travelling salesman problem (also called the travelling salesperson problem or TSP) asks the following question: \"Given a list of cities and the distances between each pair of cities, what is the shortest possible route that visits each city exactly once and returns to the origin city?\" It is an NP-hard problem in combinatorial optimization, important in theoretical computer science and operations research.\n",
    "\n",
    "The travelling purchaser problem and the vehicle routing problem are both generalizations of TSP.\n",
    "\n",
    "In the theory of computational complexity, the decision version of the TSP (where given a length L, the task is to decide whether the graph has a tour of at most L) belongs to the class of NP-complete problems. Thus, it is possible that the worst-case running time for any algorithm for the TSP increases superpolynomially (but no more than exponentially) with the number of cities.\n",
    "\n",
    "<strong>Heuristic and approximation algorithms</strong><br>\n",
    "Various heuristics and approximation algorithms, which quickly yield good solutions, have been devised. These include the Multi-fragment algorithm. Modern methods can find solutions for extremely large problems (millions of cities) within a reasonable time which are with a high probability just 2–3% away from the optimal solution."
   ]
  },
  {
   "cell_type": "code",
   "execution_count": 22,
   "metadata": {},
   "outputs": [
    {
     "data": {
      "text/plain": [
       "80"
      ]
     },
     "execution_count": 22,
     "metadata": {},
     "output_type": "execute_result"
    }
   ],
   "source": [
    "# TSP with heuristic dynamic programming\n",
    "# Solution is based on \"always picking the shortest route available\" on the matrix\n",
    "\n",
    "from itertools import permutations\n",
    "\n",
    "\n",
    "def travel_salesman_problem(graph: list, path_sum: int = 0) -> int:\n",
    "    vertex = []\n",
    "    min_path = []\n",
    "    \n",
    "    for i in range(len(graph)):\n",
    "        if i != path_sum:\n",
    "            vertex.append(i)\n",
    "            \n",
    "    next_permutation = permutations(vertex)\n",
    "    \n",
    "    for i in next_permutation:\n",
    "        current_pathweigth = 0\n",
    "        \n",
    "        k = s\n",
    "        \n",
    "        for j in i:\n",
    "            current_pathweigth += graph[k][j] \n",
    "            k = j\n",
    "        current_pathweigth += graph[k][s]\n",
    "        min_path.append(current_pathweigth)\n",
    "        x = sorted(min_path)\n",
    "        \n",
    "    return x[0]\n",
    "\n",
    "graph = [[0, 10, 15, 20],\n",
    "         [10, 0, 35, 25],\n",
    "         [15, 35, 0, 30],\n",
    "         [20, 25, 30, 0]]\n",
    "\n",
    "path_sum = 0\n",
    "\n",
    "travel_salesman_problem(graph, path_sum)"
   ]
  },
  {
   "cell_type": "code",
   "execution_count": 28,
   "metadata": {},
   "outputs": [
    {
     "data": {
      "text/plain": [
       "['aba', 'aaa']"
      ]
     },
     "execution_count": 28,
     "metadata": {},
     "output_type": "execute_result"
    }
   ],
   "source": [
    "# Palindromic paths in a matrix - Dynamic programming \n",
    "# Given a matrix containing lower alphabetical characters only, \n",
    "# we need to count number of palindromic paths in given matrix. \n",
    "# A path is defined as a sequence of cells starting from top-left cell and ending at bottom-right cell. \n",
    "# We are allowed to move to right and down only from current cell. \n",
    "\n",
    "import itertools\n",
    "\n",
    "A = [['a', 'a', 'a'],\n",
    "     ['b', 'b', 'a'],\n",
    "     ['a', 'b', 'a']]\n",
    "\n",
    "perm = list(itertools.product(*A))\n",
    "\n",
    "p_1 = []\n",
    "\n",
    "for i in perm:\n",
    "    y = ''.join(i)\n",
    "    p_1.append(y)\n",
    "    \n",
    "def find_palind(p1: list) -> list:\n",
    "    p_2 = []\n",
    "    for x in set(p_1):\n",
    "        if x == x[::-1]:\n",
    "            p_2.append(x)\n",
    "\n",
    "    return p_2\n",
    "\n",
    "find_palind(p_1)"
   ]
  },
  {
   "cell_type": "code",
   "execution_count": null,
   "metadata": {},
   "outputs": [],
   "source": []
  }
 ],
 "metadata": {
  "kernelspec": {
   "display_name": "Python 3.8.12 ('web_dev')",
   "language": "python",
   "name": "python3"
  },
  "language_info": {
   "codemirror_mode": {
    "name": "ipython",
    "version": 3
   },
   "file_extension": ".py",
   "mimetype": "text/x-python",
   "name": "python",
   "nbconvert_exporter": "python",
   "pygments_lexer": "ipython3",
   "version": "3.8.12"
  },
  "orig_nbformat": 4,
  "vscode": {
   "interpreter": {
    "hash": "bbe88f1c4aac15e832cd43c88f002a08158c14e567f9c7189aa5683aeb7e591e"
   }
  }
 },
 "nbformat": 4,
 "nbformat_minor": 2
}
