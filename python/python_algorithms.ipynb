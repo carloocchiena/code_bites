{
 "cells": [
  {
   "cell_type": "markdown",
   "metadata": {},
   "source": [
    "# Algorthms in Python\n",
    "\n",
    "An overview of the most used algos in CS, analyzed in Python language.\n",
    "\n",
    "Source: https://www.youtube.com/watch?v=fW_OS3LGB9Q&lc=UgxfYL-Ay3Cjb2uOAaR4AaABAg "
   ]
  },
  {
   "cell_type": "markdown",
   "metadata": {},
   "source": [
    "### Recursion \n",
    "\n",
    " Recursion is a method of solving a computational problem where the solution depends on solutions to smaller instances of the same problem.[1][2] Recursion solves such recursive problems by using functions that call themselves from within their own code. The approach can be applied to many types of problems, and recursion is one of the central ideas of computer science."
   ]
  },
  {
   "cell_type": "code",
   "execution_count": 13,
   "metadata": {},
   "outputs": [],
   "source": [
    "## standard\n",
    "\n",
    "def factorial(n: int) -> int:\n",
    "    prod = 1\n",
    "    for i in range(1, n + 1):\n",
    "        prod *= i\n",
    "    return prod\n",
    "\n",
    "# functional programming (recursive function) \n",
    "# this is a lot faster than the standard iterative approach\n",
    "\n",
    "def recursive_factorial(n: int) -> int:\n",
    "    if n == 1:\n",
    "        return n\n",
    "    \n",
    "    else:\n",
    "        temp = recursive_factorial(n-1)\n",
    "        temp = temp * n \n",
    "    \n",
    "    return temp"
   ]
  },
  {
   "cell_type": "markdown",
   "metadata": {},
   "source": [
    "### Permutations\n",
    "\n",
    "Una permutazione è un modo di ordinare in successione oggetti distinti, come nell'anagramma di una parola. In termini matematici una permutazione di un insieme X si definisce come una funzione biiettiva $ {\\displaystyle p\\colon X\\rightarrow X}{\\displaystyle p\\colon X\\rightarrow X} $.\n",
    "\n",
    "In mathematics, a permutation of a set is, loosely speaking, an arrangement of its members into a sequence or linear order, or if the set is already ordered, a rearrangement of its elements. The word \"permutation\" also refers to the act or process of changing the linear order of an ordered set.\n"
   ]
  },
  {
   "cell_type": "code",
   "execution_count": null,
   "metadata": {},
   "outputs": [],
   "source": [
    "def permute(string: str, pocket: str='') -> str:\n",
    "    if len(string) == 0:\n",
    "        print(pocket)\n",
    "    else:\n",
    "        for i in range(len(string)):\n",
    "            letter = string[i]\n",
    "            front = string[0:i]\n",
    "            back = string[i+1:]\n",
    "            union = front + back\n",
    "            permute(union, letter + pocket)\n",
    "            \n",
    "permute('MOM')"
   ]
  },
  {
   "cell_type": "code",
   "execution_count": null,
   "metadata": {},
   "outputs": [],
   "source": []
  }
 ],
 "metadata": {
  "kernelspec": {
   "display_name": "Python 3.8.12 ('web_dev')",
   "language": "python",
   "name": "python3"
  },
  "language_info": {
   "codemirror_mode": {
    "name": "ipython",
    "version": 3
   },
   "file_extension": ".py",
   "mimetype": "text/x-python",
   "name": "python",
   "nbconvert_exporter": "python",
   "pygments_lexer": "ipython3",
   "version": "3.8.12"
  },
  "orig_nbformat": 4,
  "vscode": {
   "interpreter": {
    "hash": "bbe88f1c4aac15e832cd43c88f002a08158c14e567f9c7189aa5683aeb7e591e"
   }
  }
 },
 "nbformat": 4,
 "nbformat_minor": 2
}
