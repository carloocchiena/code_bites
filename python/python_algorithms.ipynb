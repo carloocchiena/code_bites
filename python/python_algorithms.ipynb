{
 "cells": [
  {
   "cell_type": "markdown",
   "metadata": {},
   "source": [
    "# Algorthms in Python\n",
    "\n",
    "An overview of the most used algos in CS, analyzed in Python language.\n",
    "\n",
    "Source: https://www.youtube.com/watch?v=fW_OS3LGB9Q&lc=UgxfYL-Ay3Cjb2uOAaR4AaABAg "
   ]
  },
  {
   "cell_type": "markdown",
   "metadata": {},
   "source": [
    "### Recursion \n",
    "\n",
    " Recursion is a method of solving a computational problem where the solution depends on solutions to smaller instances of the same problem.[1][2] Recursion solves such recursive problems by using functions that call themselves from within their own code. The approach can be applied to many types of problems, and recursion is one of the central ideas of computer science."
   ]
  },
  {
   "cell_type": "code",
   "execution_count": null,
   "metadata": {},
   "outputs": [],
   "source": [
    "## standard\n",
    "\n",
    "def factorial(n: int) -> int:\n",
    "    prod = 1\n",
    "    for i in range(1, n + 1):\n",
    "        prod *= i\n",
    "    return prod\n",
    "\n",
    "# functional programming (recursive function) \n",
    "# this is a lot faster than the standard iterative approach\n",
    "\n",
    "def recursive_factorial(n: int) -> int:\n",
    "    if n == 1:\n",
    "        return n\n",
    "    \n",
    "    else:\n",
    "        temp = recursive_factorial(n-1)\n",
    "        temp = temp * n \n",
    "    \n",
    "    return temp"
   ]
  },
  {
   "cell_type": "markdown",
   "metadata": {},
   "source": [
    "### Permutations\n",
    "\n",
    "A permutation is a way of ordering distinct objects successively, as in the anagram of a word. In mathematical terms, a permutation of a set X is defined as a bijective function $ {\\displaystyle p\\colon X\\rightarrow X}$.\n",
    "\n",
    "In mathematics, a permutation of a set is, loosely speaking, an arrangement of its members into a sequence or linear order, or if the set is already ordered, a rearrangement of its elements. The word \"permutation\" also refers to the act or process of changing the linear order of an ordered set."
   ]
  },
  {
   "cell_type": "code",
   "execution_count": null,
   "metadata": {},
   "outputs": [],
   "source": [
    "def permute(string: str, pocket: str='') -> str:\n",
    "    if len(string) == 0:\n",
    "        print(pocket)\n",
    "    else:\n",
    "        for i in range(len(string)):\n",
    "            letter = string[i]\n",
    "            front = string[0:i]\n",
    "            back = string[i+1:]\n",
    "            union = front + back\n",
    "            permute(union, letter + pocket)\n",
    "            \n",
    "permute('MOM')"
   ]
  },
  {
   "cell_type": "markdown",
   "metadata": {},
   "source": [
    "### Linear (Sequential) Search \n",
    "\n",
    "In computer science, a linear search or sequential search is a method for finding an element within a list. It sequentially checks each element of the list until a match is found or the whole list has been searched."
   ]
  },
  {
   "cell_type": "code",
   "execution_count": null,
   "metadata": {},
   "outputs": [],
   "source": [
    "def linear_search(arr: list, target: int) -> int:\n",
    "    for i in range(len(arr)):\n",
    "        if arr[i] == target:\n",
    "            \n",
    "            return i"
   ]
  },
  {
   "cell_type": "markdown",
   "metadata": {},
   "source": [
    "### Binary Search\n",
    "\n",
    "In computer science, binary search, also known as half-interval search, logarithmic search, or binary chop, is a search algorithm that finds the position of a target value within a sorted array. \n",
    "Binary search compares the target value to the middle element of the array. If they are not equal, the half in which the target cannot lie is eliminated and the search continues on the remaining half, again taking the middle element to compare to the target value, and repeating this until the target value is found. If the search ends with the remaining half being empty, the target is not in the array.\n",
    "\n",
    "Binary search runs in logarithmic time in the worst case, making ${\\displaystyle O(\\log n)}$ comparisons, where ${\\displaystyle n}$ is the number of elements in the array."
   ]
  },
  {
   "cell_type": "code",
   "execution_count": null,
   "metadata": {},
   "outputs": [],
   "source": [
    "# Iterative binary search\n",
    "\n",
    "def iterative_binary(arr: list, start: int, end: int, target: int) -> int:\n",
    "    while start <= end:\n",
    "        mid = (start + end) // 2\n",
    "        if arr[mid] < target:\n",
    "            start = mid + 1\n",
    "        elif arr[mid] > target:\n",
    "            end = mid - 1\n",
    "        else:\n",
    "            return mid\n",
    "    return -1\n",
    "    \n",
    "\n",
    "arr = [2, 5, 8, 10, 16, 22, 25]\n",
    "target = 26\n",
    "start = 0\n",
    "end = len(arr) - 1\n",
    "\n",
    "iterative_binary(arr, start, end, target)        \n"
   ]
  },
  {
   "cell_type": "code",
   "execution_count": null,
   "metadata": {},
   "outputs": [],
   "source": [
    "# Recursive binary search\n",
    "\n",
    "def recursive_binary(arr: list, start: int, end: int, target: int) -> int:\n",
    "    if end >= start:\n",
    "        mid = (start + end) // 2\n",
    "        if arr[mid] == target:\n",
    "            return mid\n",
    "        elif arr[mid] > target:\n",
    "            return recursive_binary(arr, start, mid - 1, target)\n",
    "        elif arr[mid] < target:\n",
    "            return recursive_binary(arr, mid + 1, end, target)\n",
    "    else:\n",
    "        return -1\n",
    "    \n",
    "\n",
    "arr = [2, 5, 8, 10, 16, 22, 25]\n",
    "target = 55\n",
    "start = 0\n",
    "end = len(arr) - 1\n",
    "\n",
    "print(recursive_binary(arr, start, end, target))\n"
   ]
  },
  {
   "cell_type": "markdown",
   "metadata": {},
   "source": [
    "### Bubble sort\n",
    "\n",
    "Bubble Sort is the simplest sorting algorithm that works by repeatedly swapping the adjacent elements if they are in the wrong order. This algorithm is not suitable for large data sets as its average and worst-case time complexity is quite high.\n",
    "\n",
    "Bubble sort has a worst-case and average complexity of ${\\displaystyle O(n^{2})}$, where ${\\displaystyle n}$ is the number of items being sorted. Most practical sorting algorithms have substantially better worst-case or average complexity, often ${\\displaystyle O(n\\log n)}$. Even other ${\\displaystyle O(n^{2})}$ sorting algorithms, such as insertion sort, generally run faster than bubble sort, and are no more complex. For this reason, bubble sort is rarely used in practice."
   ]
  },
  {
   "cell_type": "code",
   "execution_count": null,
   "metadata": {},
   "outputs": [],
   "source": [
    "# Bubble sort\n",
    "def bubble_optimized(arr: list) -> list:\n",
    "    iterations = 0\n",
    "    for i in range(len(arr)):\n",
    "        for j in range(len(arr)-i-1):\n",
    "            iterations += 1\n",
    "            if arr[j] > arr[j+1]:\n",
    "                arr[j], arr[j+1] = arr[j+1], arr[j]\n",
    "    return arr, iterations\n",
    "\n",
    "arr = [9, 4, 5, 6, 7, 3, 8]\n",
    "\n",
    "bubble_optimized(arr)\n"
   ]
  },
  {
   "cell_type": "markdown",
   "metadata": {},
   "source": [
    "### Insertion sort\n",
    "\n",
    "Insertion sort is a simple sorting algorithm that works similar to the way you sort playing cards in your hands. The array is virtually split into a sorted and an unsorted part. Values from the unsorted part are picked and placed at the correct position in the sorted part."
   ]
  },
  {
   "cell_type": "code",
   "execution_count": null,
   "metadata": {},
   "outputs": [],
   "source": [
    "# Insertion sort\n",
    "\n",
    "def insert_sort(arr: list) -> list:\n",
    "    for j in range(1, len(arr)):\n",
    "        key = arr[j]\n",
    "        i = j - 1\n",
    "        while i >= 0 and arr[i] > key:\n",
    "            arr[i + 1] = arr[i]\n",
    "            i -= 1\n",
    "        arr[i + 1] = key\n",
    "    return arr\n",
    "\n",
    "arr = [9, 4, 5, 6, 7, 3, 8]\n",
    "insert_sort(arr)\n"
   ]
  },
  {
   "cell_type": "markdown",
   "metadata": {},
   "source": [
    "### Linked list\n",
    "\n",
    "In computer science, a linked list is a linear collection of data elements whose order is not given by their physical placement in memory. Instead, each element points to the next. It is a data structure consisting of a collection of nodes which together represent a sequence. In its most basic form, each node contains: data, and a reference (in other words, a link) to the next node in the sequence. This structure allows for efficient insertion or removal of elements from any position in the sequence during iteration. "
   ]
  },
  {
   "cell_type": "code",
   "execution_count": null,
   "metadata": {},
   "outputs": [],
   "source": [
    "class Node:\n",
    "    def __init__(self, data: str):\n",
    "        self.data = data\n",
    "        self.next = None\n",
    "        \n",
    "\n",
    "class LinkedList:\n",
    "    \n",
    "    def traversal(self):\n",
    "        first = self.head\n",
    "        while first:\n",
    "            print(first.data)\n",
    "            first = first.next\n",
    "            \n",
    "    def insert_new_header(self, new_data: str):\n",
    "        new_node = Node(new_data)\n",
    "        new_node.next = self.head\n",
    "        self.head = new_node\n",
    "        \n",
    "    def search(self, x: str) -> bool:\n",
    "        temp = self.head\n",
    "        while temp is not None:\n",
    "            if temp.data == x:\n",
    "                return True\n",
    "            temp = temp.next\n",
    "        else:\n",
    "            return False\n",
    "        \n",
    "    def delete_node(self, data):\n",
    "        temp = self.head\n",
    "        while temp is not None:\n",
    "            if temp.data == data:\n",
    "                break\n",
    "            prev = temp\n",
    "            temp = temp.next\n",
    "        prev.next = temp.next\n",
    "        \n",
    "    def delete_tail(self, data):\n",
    "        temp = self.head\n",
    "        while temp.next.next is not None:\n",
    "            temp = temp.next\n",
    "        temp.next = None\n",
    "            \n",
    "\n",
    "family = LinkedList()\n",
    "family.head = Node('Alice')\n",
    "husband = Node('Bob')\n",
    "first_kid = Node('Amy')\n",
    "second_kid = Node('Jenny')\n",
    "        \n",
    "family.head.next = husband\n",
    "husband.next = first_kid\n",
    "first_kid.next = second_kid\n",
    "\n",
    "family.traversal()\n",
    "family.insert_new_header('Jeremy')\n",
    "family.traversal()\n",
    "family.search('Bob')\n",
    "family.delete_node('Bob')\n",
    "family.traversal()\n",
    "family.delete_node('Jenny')\n",
    "family.traversal()"
   ]
  },
  {
   "cell_type": "code",
   "execution_count": null,
   "metadata": {},
   "outputs": [],
   "source": []
  }
 ],
 "metadata": {
  "kernelspec": {
   "display_name": "Python 3.8.12 ('web_dev')",
   "language": "python",
   "name": "python3"
  },
  "language_info": {
   "codemirror_mode": {
    "name": "ipython",
    "version": 3
   },
   "file_extension": ".py",
   "mimetype": "text/x-python",
   "name": "python",
   "nbconvert_exporter": "python",
   "pygments_lexer": "ipython3",
   "version": "3.8.12"
  },
  "orig_nbformat": 4,
  "vscode": {
   "interpreter": {
    "hash": "bbe88f1c4aac15e832cd43c88f002a08158c14e567f9c7189aa5683aeb7e591e"
   }
  }
 },
 "nbformat": 4,
 "nbformat_minor": 2
}
