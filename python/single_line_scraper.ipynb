{
 "cells": [
  {
   "cell_type": "code",
   "execution_count": 87,
   "id": "00ff2339",
   "metadata": {},
   "outputs": [
    {
     "name": "stdout",
     "output_type": "stream",
     "text": [
      "Hello, your name is Mario, you are 45 years old and you likes: Cricket and Chess\n",
      "Hello, your name is Tobia, you are 15 years old and you likes: Cricket, Tennis and Hockey\n",
      "Hello, your name is Steve Tyler, you are 70 years old and you likes: Sex, Drugs, RocknRoll\n"
     ]
    }
   ],
   "source": [
    "\n",
    "file1 = open('text_file.txt', 'r')\n",
    "lines = file1.readlines()\n",
    " \n",
    "i = 0\n",
    "if i <= (len(lines)-3):\n",
    "    while i in range(len(lines)):\n",
    "        print (f\"Hello, your name is {lines[i][:-1]}, you are {lines[i+1][:-1]} years old and you likes: {lines[i+2][:-1]}\")\n",
    "        i +=4\n",
    "      "
   ]
  },
  {
   "cell_type": "code",
   "execution_count": 86,
   "id": "9f13e6e1",
   "metadata": {},
   "outputs": [
    {
     "name": "stdout",
     "output_type": "stream",
     "text": [
      "Hello, your name is name1, you are age1 years old and you likes: Cricket and Chess\n",
      "Hello, your name is name2, you are age2 years old and you likes: Cricket, Tennis and Hockey\n",
      "Hello, your name is name3, you are age3 years old and you likes: Sex, Drugs, RocknRoll\n"
     ]
    }
   ],
   "source": [
    "i = 0\n",
    "if i <= (len(lines)-3):\n",
    "    while i in range(len(lines)):\n",
    "        print (f\"Hello, your name is {lines[i][:-1]}, you are {lines[i+1][:-1]} years old and you likes: {lines[i+2][:-1]}\")\n",
    "        i +=4\n",
    "\n",
    "    "
   ]
  }
 ],
 "metadata": {
  "kernelspec": {
   "display_name": "Python 3",
   "language": "python",
   "name": "python3"
  },
  "language_info": {
   "codemirror_mode": {
    "name": "ipython",
    "version": 3
   },
   "file_extension": ".py",
   "mimetype": "text/x-python",
   "name": "python",
   "nbconvert_exporter": "python",
   "pygments_lexer": "ipython3",
   "version": "3.8.8"
  }
 },
 "nbformat": 4,
 "nbformat_minor": 5
}
