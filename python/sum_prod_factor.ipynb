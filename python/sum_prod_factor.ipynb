{
 "cells": [
  {
   "cell_type": "markdown",
   "id": "b2d78100",
   "metadata": {},
   "source": [
    "## Summation \n",
    "### or Sigma Notation or Sum Notation\n",
    "\n",
    "$ \\sum  = {capital\\ sigma} $\n",
    "\n",
    "$ \\sum \\limits_{i=m}^{n}a_i={a_m + a_{m+1} + a_{m+2} +a_{n-1} + a_{n}} $\n",
    "\n",
    "so:\n",
    "\n",
    "$ \\sum \\limits_{i=3}^{6}{i^2}={{3^2}+{4^2}+{5^2}+{6^2}}=86 $"
   ]
  },
  {
   "cell_type": "code",
   "execution_count": 43,
   "id": "051dd26e",
   "metadata": {},
   "outputs": [],
   "source": [
    "def summation(i,n,term):\n",
    "    summ = 0\n",
    "    for index in range(i,n+1):\n",
    "        summ += index**term\n",
    "    return summ"
   ]
  },
  {
   "cell_type": "code",
   "execution_count": 44,
   "id": "a016bb1b",
   "metadata": {},
   "outputs": [
    {
     "data": {
      "text/plain": [
       "86"
      ]
     },
     "execution_count": 44,
     "metadata": {},
     "output_type": "execute_result"
    }
   ],
   "source": [
    "summation(3,6,2)"
   ]
  },
  {
   "cell_type": "markdown",
   "id": "5815e9f5",
   "metadata": {},
   "source": [
    "## Product\n",
    "### or Pi Notation or Product Notation\n",
    "\n",
    "$ \\prod  = {capital\\ pi} $\n",
    "\n",
    "$ \\prod \\limits_{i=m}^{n}a_i={a_m {\\cdot}\\ a_{m+1} {\\cdot}\\ a_{m+2} {\\cdot}\\ a_{n-1} {\\cdot}\\ a_{n}} $\n",
    "\n",
    "so:\n",
    "\n",
    "$ \\prod \\limits_{i=1}^{4}{i}= 1 {\\cdot}\\ 2 {\\cdot}\\ 3 {\\cdot}\\ 4 =24 $"
   ]
  },
  {
   "cell_type": "code",
   "execution_count": 50,
   "id": "b4daa517",
   "metadata": {},
   "outputs": [],
   "source": [
    "def product(i,n,term):\n",
    "    prod = 1\n",
    "    for index in range(i,n+1):\n",
    "        prod *= index*term\n",
    "    return prod"
   ]
  },
  {
   "cell_type": "code",
   "execution_count": 51,
   "id": "33145ccd",
   "metadata": {},
   "outputs": [
    {
     "data": {
      "text/plain": [
       "24"
      ]
     },
     "execution_count": 51,
     "metadata": {},
     "output_type": "execute_result"
    }
   ],
   "source": [
    "product(1,4,1)"
   ]
  },
  {
   "cell_type": "markdown",
   "id": "55648377",
   "metadata": {},
   "source": [
    "## Factorial\n",
    "\n",
    "$ n! $\n",
    "\n",
    "$ n! := \\prod \\limits_{k=1}^{n}k={n {\\cdot}\\ (n-1) {\\cdot}\\ (n-2) {\\cdot}\\ (n-3) {\\cdot}{\\cdot}{\\cdot}\\ 3{\\cdot}\\ 2 {\\cdot}\\ 1} $\n",
    "\n",
    "so:\n",
    "\n",
    "$ 5! = 120 $"
   ]
  },
  {
   "cell_type": "code",
   "execution_count": 55,
   "id": "23c58cd1",
   "metadata": {},
   "outputs": [],
   "source": [
    "def factorial (n):\n",
    "    prod = 1\n",
    "    for i in range (1, n+1):\n",
    "        prod *= i\n",
    "    return prod"
   ]
  },
  {
   "cell_type": "code",
   "execution_count": 56,
   "id": "6c9b27a5",
   "metadata": {},
   "outputs": [
    {
     "data": {
      "text/plain": [
       "120"
      ]
     },
     "execution_count": 56,
     "metadata": {},
     "output_type": "execute_result"
    }
   ],
   "source": [
    "factorial(5)"
   ]
  },
  {
   "cell_type": "code",
   "execution_count": null,
   "id": "a7e614d8",
   "metadata": {},
   "outputs": [],
   "source": []
  }
 ],
 "metadata": {
  "kernelspec": {
   "display_name": "Python 3",
   "language": "python",
   "name": "python3"
  },
  "language_info": {
   "codemirror_mode": {
    "name": "ipython",
    "version": 3
   },
   "file_extension": ".py",
   "mimetype": "text/x-python",
   "name": "python",
   "nbconvert_exporter": "python",
   "pygments_lexer": "ipython3",
   "version": "3.8.8"
  }
 },
 "nbformat": 4,
 "nbformat_minor": 5
}
